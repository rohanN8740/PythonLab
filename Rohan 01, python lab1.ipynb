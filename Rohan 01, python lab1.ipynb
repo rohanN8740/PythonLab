{
 "cells": [
  {
   "cell_type": "code",
   "execution_count": 1,
   "id": "47846445",
   "metadata": {},
   "outputs": [
    {
     "name": "stdout",
     "output_type": "stream",
     "text": [
      "sum: 22\n"
     ]
    }
   ],
   "source": [
    "a=10\n",
    "b=12\n",
    "print('sum:',a+b)"
   ]
  },
  {
   "cell_type": "code",
   "execution_count": 2,
   "id": "e0ad4fea",
   "metadata": {},
   "outputs": [
    {
     "name": "stdout",
     "output_type": "stream",
     "text": [
      "subtraction: 6\n"
     ]
    }
   ],
   "source": [
    "a=8\n",
    "b=2\n",
    "print('subtraction:',a-b)"
   ]
  },
  {
   "cell_type": "code",
   "execution_count": 3,
   "id": "0827b153",
   "metadata": {},
   "outputs": [
    {
     "name": "stdout",
     "output_type": "stream",
     "text": [
      "multiplication: 0\n"
     ]
    }
   ],
   "source": [
    "a=0\n",
    "b=12\n",
    "print('multiplication:',a*b)"
   ]
  },
  {
   "cell_type": "code",
   "execution_count": 4,
   "id": "aa5373ee",
   "metadata": {},
   "outputs": [
    {
     "name": "stdout",
     "output_type": "stream",
     "text": [
      "division: 4.0\n"
     ]
    }
   ],
   "source": [
    "a=8\n",
    "b=2\n",
    "print('division:',a/b)"
   ]
  },
  {
   "cell_type": "code",
   "execution_count": 5,
   "id": "9c9e2378",
   "metadata": {},
   "outputs": [
    {
     "name": "stdout",
     "output_type": "stream",
     "text": [
      "False\n",
      "True\n",
      "True\n",
      "False\n",
      "True\n",
      "False\n"
     ]
    }
   ],
   "source": [
    "a=100 \n",
    "b=20\n",
    "print(a==b)\n",
    "print(a!=b)\n",
    "print(a>b)\n",
    "print(a<b)\n",
    "print(a>=b)\n",
    "print(a<=b)"
   ]
  },
  {
   "cell_type": "code",
   "execution_count": 6,
   "id": "f51392cb",
   "metadata": {},
   "outputs": [
    {
     "name": "stdout",
     "output_type": "stream",
     "text": [
      "50\n",
      "70\n",
      "50\n",
      "1000\n",
      "50.0\n",
      "10.0\n",
      "0.0\n"
     ]
    }
   ],
   "source": [
    "a=50\n",
    "b=20\n",
    "print(a)\n",
    "a+=b\n",
    "print(a)\n",
    "a-=b\n",
    "\n",
    "print(a)\n",
    "a*=b\n",
    "print(a)\n",
    "a/=b\n",
    "print(a)\n",
    "a%=b\n",
    "print(a)\n",
    "a//=b\n",
    "print(a)\n",
    "a**=b"
   ]
  },
  {
   "cell_type": "code",
   "execution_count": null,
   "id": "b39b8959",
   "metadata": {},
   "outputs": [],
   "source": []
  }
 ],
 "metadata": {
  "kernelspec": {
   "display_name": "Python 3 (ipykernel)",
   "language": "python",
   "name": "python3"
  },
  "language_info": {
   "codemirror_mode": {
    "name": "ipython",
    "version": 3
   },
   "file_extension": ".py",
   "mimetype": "text/x-python",
   "name": "python",
   "nbconvert_exporter": "python",
   "pygments_lexer": "ipython3",
   "version": "3.9.7"
  }
 },
 "nbformat": 4,
 "nbformat_minor": 5
}
