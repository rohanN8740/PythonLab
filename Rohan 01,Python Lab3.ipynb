{
 "cells": [
  {
   "cell_type": "code",
   "execution_count": 1,
   "id": "1bdb7ff3",
   "metadata": {},
   "outputs": [
    {
     "name": "stdout",
     "output_type": "stream",
     "text": [
      "{1: 'python', 2: 'cpp', 3: 'java'}\n",
      "<class 'dict'>\n",
      "python\n",
      "java\n",
      "None\n",
      "3\n",
      "{1: 50, 2: 50, 3: 50}\n",
      "{1: 'python', 2: 'cpp', 3: 'javascript', 4: 'Kotlin', 5: 'ceylon'}\n",
      "{1: 'python', 3: 'javascript', 4: 'Kotlin', 5: 'ceylon'}\n",
      "dict_keys([1, 3, 4, 5])\n",
      "dict_values(['python', 'javascript', 'Kotlin', 'ceylon'])\n",
      "{}\n"
     ]
    }
   ],
   "source": [
    "dict={1:'python',2:'cpp',3:'java'}\n",
    "print(dict) #printing dictionary\n",
    "print(type(dict)) #checking the type\n",
    "print(dict [1]) #accessing the element from the dict\n",
    "print(dict.get(3))\n",
    "print(dict.get(5)) #accessing the element which not exist\n",
    "print(len(dict)) #finding the length of dict\n",
    "result=dict.fromkeys(dict,50) #using from key\n",
    "print(result)\n",
    "dict[3]= 'javascript' #updating dict element\n",
    "dict[4]='Kotlin' #adding 2 more elemnts to dict\n",
    "dict[5]='ceylon'\n",
    "print(dict)\n",
    "dict.pop(2) #removing the element from dict\n",
    "print(dict)\n",
    "print(dict.keys()) #accessing the list of keys in dict\n",
    "print(dict.values()) #accessing the list of values in dict\n",
    "dict.clear() #all elements remove at once \n",
    "print(dict)"
   ]
  },
  {
   "cell_type": "code",
   "execution_count": 2,
   "id": "f51362b1",
   "metadata": {},
   "outputs": [
    {
     "name": "stdout",
     "output_type": "stream",
     "text": [
      "{1: 'abc', 2: '9.10', 3: '23', 4: 'python', 5: ['java']}\n"
     ]
    }
   ],
   "source": [
    "my_dict={1:'abc',2:'9.10',3:'23',4:(\"python\"),5:[\"java\"]} #dict with a collection of different data types\n",
    "print(my_dict)"
   ]
  },
  {
   "cell_type": "code",
   "execution_count": 3,
   "id": "db5d4309",
   "metadata": {},
   "outputs": [
    {
     "name": "stdout",
     "output_type": "stream",
     "text": [
      "{'c', 'java', 'python', 'cpp'}\n",
      "<class 'set'>\n",
      "4\n",
      "{'kotlin', 'java', 'python', 'cylon', 'c', 'cpp'}\n",
      "{'c'}\n",
      "{'java', 'python', 'cpp'}\n",
      "{'kotlin', 'python', 'java', 'cylon', 'cpp'}\n"
     ]
    }
   ],
   "source": [
    "set={\"python\",\"java\",\"cpp\",\"c\"}\n",
    "set_2={\"cylon\",\"kotlin\",\"c\"}\n",
    "print(set)\n",
    "print(type (set))\n",
    "print(len(set)) #getting the number of elements in set\n",
    "union_set= set|set_2 #combine two set\n",
    "print(union_set)\n",
    "intersection_set=set & set_2 #finding the common element between two sets\n",
    "print(intersection_set) \n",
    "difference_set= set-set_2 #return element present in first set but not second\n",
    "print(difference_set)\n",
    "symmetric_set= set^set_2 #returns elements present in either in set but not both\n",
    "print(symmetric_set)"
   ]
  },
  {
   "cell_type": "code",
   "execution_count": null,
   "id": "0c3c3ebb",
   "metadata": {},
   "outputs": [],
   "source": []
  }
 ],
 "metadata": {
  "kernelspec": {
   "display_name": "Python 3 (ipykernel)",
   "language": "python",
   "name": "python3"
  },
  "language_info": {
   "codemirror_mode": {
    "name": "ipython",
    "version": 3
   },
   "file_extension": ".py",
   "mimetype": "text/x-python",
   "name": "python",
   "nbconvert_exporter": "python",
   "pygments_lexer": "ipython3",
   "version": "3.9.7"
  }
 },
 "nbformat": 4,
 "nbformat_minor": 5
}
