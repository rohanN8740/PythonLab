{
 "cells": [
  {
   "cell_type": "code",
   "execution_count": 1,
   "id": "e8a406b2",
   "metadata": {},
   "outputs": [
    {
     "name": "stdout",
     "output_type": "stream",
     "text": [
      "{1: 'python', 2: 'java', 3: 'c++'}\n"
     ]
    }
   ],
   "source": [
    "dict={1:\"python\",2:\"java\",3:\"c++\"}\n",
    "print(dict)"
   ]
  },
  {
   "cell_type": "code",
   "execution_count": 2,
   "id": "f654d6e6",
   "metadata": {},
   "outputs": [
    {
     "name": "stdout",
     "output_type": "stream",
     "text": [
      "{1: 'apple', 2: 'mackbook'}\n",
      "2\n"
     ]
    }
   ],
   "source": [
    "my_dict1={1:'apple',2:'mackbook'}\n",
    "print(my_dict1)\n",
    "print(len(my_dict1))"
   ]
  },
  {
   "cell_type": "code",
   "execution_count": 3,
   "id": "f72e1add",
   "metadata": {},
   "outputs": [
    {
     "name": "stdout",
     "output_type": "stream",
     "text": [
      "python\n"
     ]
    }
   ],
   "source": [
    "my_dict={1:'python',2:'java',3:'c++',4:'c','L':\"Good Language\"}\n",
    "print(my_dict[1])\n"
   ]
  },
  {
   "cell_type": "code",
   "execution_count": 4,
   "id": "2b03d66d",
   "metadata": {},
   "outputs": [
    {
     "name": "stdout",
     "output_type": "stream",
     "text": [
      "c++\n"
     ]
    }
   ],
   "source": [
    "my_dict={1:'python',2:'java',3:'c++',4:'c','L':\"Good Language\"}\n",
    "print(my_dict[3])"
   ]
  },
  {
   "cell_type": "code",
   "execution_count": 5,
   "id": "5bea5ff9",
   "metadata": {},
   "outputs": [
    {
     "name": "stdout",
     "output_type": "stream",
     "text": [
      "{'name': 'arthur', 'age': 34}\n",
      "{'name': 'arthur', 'age': 34, 'address': 'downtown'}\n"
     ]
    }
   ],
   "source": [
    "my_dict={'name':'arthur','age':24}\n",
    "my_dict['age']=34\n",
    "print(my_dict)\n",
    "my_dict['address']='downtown'\n",
    "print(my_dict)"
   ]
  },
  {
   "cell_type": "code",
   "execution_count": 6,
   "id": "222de62e",
   "metadata": {},
   "outputs": [
    {
     "name": "stdout",
     "output_type": "stream",
     "text": [
      "{1: 'arthur', 2: 'java', 3: 'c'}\n",
      "{1: 'arthur', 2: 'java', 3: 'c', 4: 'R programming'}\n",
      "{1: 'arthur', 2: 'java', 3: 'c', 4: 'R programming', 5: 'php'}\n"
     ]
    }
   ],
   "source": [
    "my_dict={1:'arthur',2:'java',3:'c'}\n",
    "print(my_dict)\n",
    "my_dict[4]='R programming'\n",
    "print(my_dict)\n",
    "my_dict[5]='php'\n",
    "print(my_dict)"
   ]
  },
  {
   "cell_type": "code",
   "execution_count": 7,
   "id": "52fc1176",
   "metadata": {},
   "outputs": [
    {
     "name": "stdout",
     "output_type": "stream",
     "text": [
      "16\n",
      "{1: 1, 2: 4, 3: 9, 5: 25}\n",
      "(5, 25)\n",
      "{1: 1, 2: 4, 3: 9}\n"
     ]
    }
   ],
   "source": [
    "squares={1:1,2:4,3:9,4:16,5:25}\n",
    "print(squares.pop(4))\n",
    "print(squares)\n",
    "print(squares.popitem())\n",
    "print(squares)"
   ]
  },
  {
   "cell_type": "code",
   "execution_count": 8,
   "id": "37e3462e",
   "metadata": {},
   "outputs": [
    {
     "name": "stdout",
     "output_type": "stream",
     "text": [
      "{1: 'python', 2: 'java', 3: 'c++'}\n",
      "dict_items([(1, 'python'), (2, 'java'), (3, 'c++')])\n"
     ]
    }
   ],
   "source": [
    "dict1={1:\"python\",2:\"java\",3:\"c++\"}\n",
    "dict2=dict1.copy()\n",
    "print(dict2)\n",
    "print(dict1.items())"
   ]
  },
  {
   "cell_type": "code",
   "execution_count": 9,
   "id": "27ebe286",
   "metadata": {},
   "outputs": [
    {
     "name": "stdout",
     "output_type": "stream",
     "text": [
      "{'python': 50, 'java': 50, 'c++': 50}\n"
     ]
    }
   ],
   "source": [
    "seq=('python','java','c++')\n",
    "my_dict=my_dict.fromkeys(seq,50)\n",
    "print(my_dict)"
   ]
  },
  {
   "cell_type": "code",
   "execution_count": 10,
   "id": "2516616a",
   "metadata": {},
   "outputs": [
    {
     "name": "stdout",
     "output_type": "stream",
     "text": [
      "True\n",
      "False\n"
     ]
    }
   ],
   "source": [
    "dict1={1:1,2:4,3:9,4:16,5:25}\n",
    "print(1 in dict1)\n",
    "print(2 not in dict1)"
   ]
  },
  {
   "cell_type": "code",
   "execution_count": 11,
   "id": "e6195408",
   "metadata": {},
   "outputs": [
    {
     "name": "stdout",
     "output_type": "stream",
     "text": [
      "{'banana', 'orange', 'apple', 'cherry'}\n",
      "{'banana', 'orange', 'apple', 'cherry'}\n",
      "set()\n"
     ]
    }
   ],
   "source": [
    "fruits={\"apple\",'banana','cherry'}\n",
    "fruits.add(\"orange\")\n",
    "print(fruits)\n",
    "fruits.add(\"apple\")\n",
    "print(fruits)\n",
    "fruits.clear()\n",
    "print(fruits)"
   ]
  },
  {
   "cell_type": "code",
   "execution_count": 12,
   "id": "82d1320f",
   "metadata": {},
   "outputs": [
    {
     "name": "stdout",
     "output_type": "stream",
     "text": [
      "{'cherry'}\n"
     ]
    }
   ],
   "source": [
    "x={\"apple\",'banana','cherry'}\n",
    "y={\"orange\",\"apple\",'banana','apple'}\n",
    "z=x-y\n",
    "print(z)"
   ]
  },
  {
   "cell_type": "code",
   "execution_count": null,
   "id": "8bd24dfd",
   "metadata": {},
   "outputs": [],
   "source": []
  }
 ],
 "metadata": {
  "kernelspec": {
   "display_name": "Python 3 (ipykernel)",
   "language": "python",
   "name": "python3"
  },
  "language_info": {
   "codemirror_mode": {
    "name": "ipython",
    "version": 3
   },
   "file_extension": ".py",
   "mimetype": "text/x-python",
   "name": "python",
   "nbconvert_exporter": "python",
   "pygments_lexer": "ipython3",
   "version": "3.9.7"
  }
 },
 "nbformat": 4,
 "nbformat_minor": 5
}
